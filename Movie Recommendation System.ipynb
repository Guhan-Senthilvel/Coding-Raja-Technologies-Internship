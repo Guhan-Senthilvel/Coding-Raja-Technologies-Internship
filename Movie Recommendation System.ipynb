{
 "cells": [
  {
   "cell_type": "code",
   "execution_count": 21,
   "metadata": {},
   "outputs": [],
   "source": [
    "import pandas as pd\n"
   ]
  },
  {
   "cell_type": "code",
   "execution_count": 22,
   "metadata": {},
   "outputs": [],
   "source": [
    "movies = pd.read_csv(\"C:\\\\Users\\\\guhan\\\\Desktop\\\\Movie Recommendation System\\\\movies.csv\")\n",
    "ratings = pd.read_csv(\"C:\\\\Users\\\\guhan\\\\Desktop\\\\Movie Recommendation System\\\\ratings.csv\")\n"
   ]
  },
  {
   "cell_type": "code",
   "execution_count": 23,
   "metadata": {},
   "outputs": [
    {
     "name": "stdout",
     "output_type": "stream",
     "text": [
      "Movies Data:\n",
      "   movieId                               title  \\\n",
      "0        1                    Toy Story (1995)   \n",
      "1        2                      Jumanji (1995)   \n",
      "2        3             Grumpier Old Men (1995)   \n",
      "3        4            Waiting to Exhale (1995)   \n",
      "4        5  Father of the Bride Part II (1995)   \n",
      "\n",
      "                                        genres  \n",
      "0  Adventure|Animation|Children|Comedy|Fantasy  \n",
      "1                   Adventure|Children|Fantasy  \n",
      "2                               Comedy|Romance  \n",
      "3                         Comedy|Drama|Romance  \n",
      "4                                       Comedy  \n"
     ]
    }
   ],
   "source": [
    "print(\"Movies Data:\")\n",
    "print(movies.head())"
   ]
  },
  {
   "cell_type": "code",
   "execution_count": 24,
   "metadata": {},
   "outputs": [
    {
     "name": "stdout",
     "output_type": "stream",
     "text": [
      "\n",
      "Ratings Data:\n",
      "   userId  movieId  rating   timestamp\n",
      "0       1      296     5.0  1147880044\n",
      "1       1      306     3.5  1147868817\n",
      "2       1      307     5.0  1147868828\n",
      "3       1      665     5.0  1147878820\n",
      "4       1      899     3.5  1147868510\n"
     ]
    }
   ],
   "source": [
    "print(\"\\nRatings Data:\")\n",
    "print(ratings.head())"
   ]
  },
  {
   "cell_type": "code",
   "execution_count": 25,
   "metadata": {},
   "outputs": [
    {
     "name": "stdout",
     "output_type": "stream",
     "text": [
      "\n",
      "Merged Data:\n",
      "   userId  movieId  rating   timestamp  \\\n",
      "0       1      296     5.0  1147880044   \n",
      "1       1      306     3.5  1147868817   \n",
      "2       1      307     5.0  1147868828   \n",
      "3       1      665     5.0  1147878820   \n",
      "4       1      899     3.5  1147868510   \n",
      "\n",
      "                                              title  \\\n",
      "0                               Pulp Fiction (1994)   \n",
      "1  Three Colors: Red (Trois couleurs: Rouge) (1994)   \n",
      "2  Three Colors: Blue (Trois couleurs: Bleu) (1993)   \n",
      "3                                Underground (1995)   \n",
      "4                        Singin' in the Rain (1952)   \n",
      "\n",
      "                        genres  \n",
      "0  Comedy|Crime|Drama|Thriller  \n",
      "1                        Drama  \n",
      "2                        Drama  \n",
      "3             Comedy|Drama|War  \n",
      "4       Comedy|Musical|Romance  \n"
     ]
    }
   ],
   "source": [
    "data = pd.merge(ratings, movies, on='movieId')\n",
    "\n",
    "print(\"\\nMerged Data:\")\n",
    "print(data.head())\n"
   ]
  },
  {
   "cell_type": "code",
   "execution_count": 26,
   "metadata": {},
   "outputs": [
    {
     "name": "stdout",
     "output_type": "stream",
     "text": [
      "\n",
      "User-Item Matrix:\n",
      "title   $5 a Day (2008)  'Round Midnight (1986)  'burbs, The (1989)  \\\n",
      "userId                                                                \n",
      "1                   0.0                     0.0                 0.0   \n",
      "2                   0.0                     0.0                 0.0   \n",
      "3                   0.0                     0.0                 0.0   \n",
      "4                   0.0                     0.0                 0.0   \n",
      "5                   0.0                     0.0                 0.0   \n",
      "\n",
      "title   (500) Days of Summer (2009)  \\\n",
      "userId                                \n",
      "1                               0.0   \n",
      "2                               0.0   \n",
      "3                               0.0   \n",
      "4                               0.0   \n",
      "5                               0.0   \n",
      "\n",
      "title   (Dis)Honesty: The Truth About Lies (2015)  \\\n",
      "userId                                              \n",
      "1                                             0.0   \n",
      "2                                             0.0   \n",
      "3                                             0.0   \n",
      "4                                             0.0   \n",
      "5                                             0.0   \n",
      "\n",
      "title   ...And Justice for All (1979)  10 (1979)  10 Rillington Place (1971)  \\\n",
      "userId                                                                         \n",
      "1                                 0.0        0.0                         0.0   \n",
      "2                                 0.0        0.0                         0.0   \n",
      "3                                 0.0        0.0                         0.0   \n",
      "4                                 0.0        0.0                         0.0   \n",
      "5                                 0.0        0.0                         0.0   \n",
      "\n",
      "title   10 Things I Hate About You (1999)  10,000 BC (2008)  ...  \\\n",
      "userId                                                       ...   \n",
      "1                                     0.0               0.0  ...   \n",
      "2                                     0.0               0.0  ...   \n",
      "3                                     0.0               0.0  ...   \n",
      "4                                     0.0               0.0  ...   \n",
      "5                                     0.0               0.0  ...   \n",
      "\n",
      "title   Zack and Miri Make a Porno (2008)  Zelig (1983)  Zero Effect (1998)  \\\n",
      "userId                                                                        \n",
      "1                                     0.0           0.0                 0.0   \n",
      "2                                     0.0           0.0                 0.0   \n",
      "3                                     0.0           0.0                 0.0   \n",
      "4                                     0.0           0.0                 0.0   \n",
      "5                                     0.0           0.0                 0.0   \n",
      "\n",
      "title   Zombieland (2009)  Zoolander (2001)  Zootopia (2016)  eXistenZ (1999)  \\\n",
      "userId                                                                          \n",
      "1                     0.0               0.0              0.0              0.0   \n",
      "2                     0.0               0.0              0.0              0.0   \n",
      "3                     4.0               3.5              0.0              0.0   \n",
      "4                     0.0               4.0              4.5              0.0   \n",
      "5                     0.0               0.0              0.0              0.0   \n",
      "\n",
      "title   xXx (2002)  xXx: State of the Union (2005)  ¡Three Amigos! (1986)  \n",
      "userId                                                                     \n",
      "1              0.0                             0.0                    0.0  \n",
      "2              0.0                             0.0                    0.0  \n",
      "3              3.5                             0.0                    0.0  \n",
      "4              0.0                             0.0                    0.0  \n",
      "5              0.0                             0.0                    0.0  \n",
      "\n",
      "[5 rows x 3809 columns]\n"
     ]
    }
   ],
   "source": [
    "user_item_matrix = data.pivot_table(index='userId', columns='title', values='rating').fillna(0)\n",
    "\n",
    "print(\"\\nUser-Item Matrix:\")\n",
    "print(user_item_matrix.head())"
   ]
  },
  {
   "cell_type": "code",
   "execution_count": 27,
   "metadata": {},
   "outputs": [],
   "source": [
    "from sklearn.neighbors import NearestNeighbors\n",
    "import numpy as np"
   ]
  },
  {
   "cell_type": "code",
   "execution_count": 28,
   "metadata": {},
   "outputs": [
    {
     "name": "stdout",
     "output_type": "stream",
     "text": [
      "\n",
      "Recommendations for Toy Story (1995):\n",
      "['Star Wars: Episode IV - A New Hope (1977)', 'Star Wars: Episode VI - Return of the Jedi (1983)', 'Forrest Gump (1994)', 'Independence Day (a.k.a. ID4) (1996)', 'Lion King, The (1994)', 'Back to the Future (1985)', \"Ferris Bueller's Day Off (1986)\", 'Toy Story 2 (1999)', 'Finding Nemo (2003)', 'Toy Story 3 (2010)']\n"
     ]
    }
   ],
   "source": [
    "item_user_matrix = user_item_matrix.T\n",
    "\n",
    "item_user_matrix = item_user_matrix.apply(pd.to_numeric, errors='coerce').fillna(0)\n",
    "\n",
    "model_knn = NearestNeighbors(metric='cosine', algorithm='brute', n_neighbors=10)\n",
    "model_knn.fit(item_user_matrix)\n",
    "\n",
    "def get_item_recommendations(movie_title, n_recommendations=10):\n",
    "    distances, indices = model_knn.kneighbors(item_user_matrix.loc[movie_title].values.reshape(1, -1), n_neighbors=n_recommendations+1)\n",
    "    recommendations = [item_user_matrix.index[indices.flatten()[i]] for i in range(1, len(distances.flatten()))]\n",
    "    return recommendations\n",
    "\n",
    "movie_title = 'Toy Story (1995)'\n",
    "recommendations = get_item_recommendations(movie_title, n_recommendations=10)\n",
    "print(f\"\\nRecommendations for {movie_title}:\")\n",
    "print(recommendations)"
   ]
  },
  {
   "cell_type": "code",
   "execution_count": 29,
   "metadata": {},
   "outputs": [],
   "source": [
    "import ipywidgets as widgets\n",
    "from IPython.display import display\n",
    "import difflib"
   ]
  },
  {
   "cell_type": "code",
   "execution_count": 30,
   "metadata": {},
   "outputs": [
    {
     "data": {
      "application/vnd.jupyter.widget-view+json": {
       "model_id": "383ca7a0e48b43ce9ddd9f462b228775",
       "version_major": 2,
       "version_minor": 0
      },
      "text/plain": [
       "Combobox(value='', description='Movie Title:', ensure_option=True, options=('\"BLOW THE NIGHT!\" Let\\'s Spend th…"
      ]
     },
     "metadata": {},
     "output_type": "display_data"
    },
    {
     "data": {
      "application/vnd.jupyter.widget-view+json": {
       "model_id": "75400c0b583a45b4bd35471110c46e71",
       "version_major": 2,
       "version_minor": 0
      },
      "text/plain": [
       "Button(description='Get Recommendations', style=ButtonStyle())"
      ]
     },
     "metadata": {},
     "output_type": "display_data"
    },
    {
     "data": {
      "application/vnd.jupyter.widget-view+json": {
       "model_id": "f4169a5d64464c5396521f212184eca9",
       "version_major": 2,
       "version_minor": 0
      },
      "text/plain": [
       "Output()"
      ]
     },
     "metadata": {},
     "output_type": "display_data"
    }
   ],
   "source": [
    "movie_title_input = widgets.Combobox(\n",
    "    description=\"Movie Title:\",\n",
    "    options=sorted(movies['title'].unique()),\n",
    "    ensure_option=True,\n",
    "    continuous_update=True\n",
    ")\n",
    "\n",
    "button = widgets.Button(description=\"Get Recommendations\")\n",
    "\n",
    "output = widgets.Output()\n",
    "\n",
    "def on_button_click(b):\n",
    "    with output:\n",
    "        output.clear_output()\n",
    "        movie_title = movie_title_input.value\n",
    "        # Case-insensitive match for the movie title\n",
    "        movie_title_matches = difflib.get_close_matches(movie_title, movies['title'].unique(), n=1, cutoff=0.0)\n",
    "        if movie_title_matches:\n",
    "            movie_title = movie_title_matches[0]\n",
    "            recommendations = get_item_recommendations(movie_title, n_recommendations=10)\n",
    "            print(f\"\\nRecommendations for {movie_title}:\")\n",
    "            for rec in recommendations:\n",
    "                print(rec)\n",
    "        else:\n",
    "            print(f\"No matches found for {movie_title}.\")\n",
    "\n",
    "button.on_click(on_button_click)\n",
    "\n",
    "display(movie_title_input, button, output)"
   ]
  }
 ],
 "metadata": {
  "kernelspec": {
   "display_name": "Python 3",
   "language": "python",
   "name": "python3"
  },
  "language_info": {
   "codemirror_mode": {
    "name": "ipython",
    "version": 3
   },
   "file_extension": ".py",
   "mimetype": "text/x-python",
   "name": "python",
   "nbconvert_exporter": "python",
   "pygments_lexer": "ipython3",
   "version": "3.12.4"
  }
 },
 "nbformat": 4,
 "nbformat_minor": 2
}
